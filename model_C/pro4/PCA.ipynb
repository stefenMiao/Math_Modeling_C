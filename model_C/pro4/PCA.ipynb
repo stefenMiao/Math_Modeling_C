{
 "cells": [
  {
   "cell_type": "code",
   "execution_count": 70,
   "id": "d8b20788",
   "metadata": {},
   "outputs": [],
   "source": [
    "import numpy as np\n",
    "import pandas as pd\n",
    "import matplotlib.pyplot as plt\n",
    "from sklearn import metrics\n",
    "from sklearn.cluster import KMeans\n",
    "import random\n",
    "from sklearn.preprocessing import normalize,StandardScaler\n",
    "from sklearn.decomposition import PCA\n",
    "from operator import mul"
   ]
  },
  {
   "cell_type": "code",
   "execution_count": 2,
   "id": "529fd6a1",
   "metadata": {},
   "outputs": [],
   "source": [
    "data =pd.read_csv(\"/Users/steafen/Desktop/data2.csv\")\n",
    "data.drop(['Wenshi','color'],axis=1,inplace=True)"
   ]
  },
  {
   "cell_type": "code",
   "execution_count": 3,
   "id": "9ca81b16",
   "metadata": {},
   "outputs": [],
   "source": [
    "data_K=data[data['Type']==0] # 筛选高钾类型\n",
    "data_K0=data_K[data_K['Fenghua']==0] # 筛选出高钾未分化\n",
    "data_K1=data_K[data_K['Fenghua']==1] # 筛选出高钾已分化\n",
    "data_Pb=data[data['Type']==1]\n",
    "data_Pb0=data_Pb[data_Pb['Fenghua']==0]\n",
    "data_Pb1=data_Pb[data_Pb['Fenghua']==1]"
   ]
  },
  {
   "cell_type": "code",
   "execution_count": 13,
   "id": "6540a0cc",
   "metadata": {},
   "outputs": [],
   "source": [
    "# 数据归一化\n",
    "trainK1_scaled=normalize(data_K1)\n",
    "trainK1_scaled=pd.DataFrame(trainK1_scaled,columns=data_K1.columns)\n",
    "traindata_K1=trainK1_scaled.drop(['Type','Fenghua'],axis=1)\n",
    "\n",
    "trainK0_scaled=normalize(data_K0)\n",
    "trainK0_scaled=pd.DataFrame(trainK0_scaled,columns=data_K0.columns)\n",
    "traindata_K0=trainK0_scaled.drop(['Type','Fenghua'],axis=1)\n",
    "\n",
    "trainPb1_scaled=normalize(data_Pb1)\n",
    "trainPb1_scaled=pd.DataFrame(trainPb1_scaled,columns=data_Pb1.columns)\n",
    "traindata_Pb1=trainPb1_scaled.drop(['Type','Fenghua'],axis=1)\n",
    "\n",
    "trainPb0_scaled=normalize(data_Pb0)\n",
    "trainPb0_scaled=pd.DataFrame(trainPb0_scaled,columns=data_Pb0.columns)\n",
    "traindata_Pb0=trainPb0_scaled.drop(['Type','Fenghua'],axis=1)\n"
   ]
  },
  {
   "cell_type": "code",
   "execution_count": null,
   "id": "4c243c01",
   "metadata": {},
   "outputs": [],
   "source": []
  },
  {
   "cell_type": "code",
   "execution_count": null,
   "id": "533d488d",
   "metadata": {},
   "outputs": [],
   "source": [
    "# PCA 高钾未风化"
   ]
  },
  {
   "cell_type": "code",
   "execution_count": 35,
   "id": "ab26a7ad",
   "metadata": {},
   "outputs": [
    {
     "name": "stdout",
     "output_type": "stream",
     "text": [
      "[0.54210131 0.21925011 0.1078552 ]\n",
      "[0.00593629 0.0024009  0.00118107]\n",
      "3\n",
      "[[ 1.58510792e-01 -9.94606053e-02 -7.72462318e-01 -5.48785938e-01\n",
      "   1.36729563e-02 -2.01310817e-01 -7.28240995e-02 -1.25533259e-01\n",
      "  -1.74626292e-02  2.86316404e-02  5.24586029e-02 -4.31364034e-04\n",
      "   3.76051252e-02 -7.21001491e-03]\n",
      " [-7.94843630e-02 -6.25540212e-02 -2.13703578e-01 -2.58496485e-02\n",
      "   1.28876379e-01  7.25443170e-01  4.55947704e-01  1.32993266e-01\n",
      "   1.84138885e-02  1.17620062e-01  3.95224506e-01  9.03977334e-03\n",
      "  -6.70528956e-02 -5.06032639e-03]\n",
      " [ 2.83830573e-02 -1.85443752e-01 -4.33988293e-01  6.05942461e-01\n",
      "  -6.25938049e-02 -3.01076758e-01  2.48320704e-01  4.65652327e-01\n",
      "   6.47312385e-03  8.20700699e-02 -1.31302782e-01 -8.42390106e-03\n",
      "  -1.07697603e-01  2.33430350e-02]]\n"
     ]
    }
   ],
   "source": [
    "pca_K0=PCA(n_components=3)\n",
    "pca_K0.fit(traindata_K0)\n",
    "print(pca_K0.explained_variance_ratio_)\n",
    "print(pca_K0.explained_variance_)\n",
    "print(pca_K0.n_components)\n",
    "print(pca_K0.components_)  # 因子载荷矩阵/ 成分矩阵"
   ]
  },
  {
   "cell_type": "code",
   "execution_count": 83,
   "id": "c9f79a7b",
   "metadata": {},
   "outputs": [
    {
     "data": {
      "text/plain": [
       "array([[ 2.05731722e+00, -1.29090274e+00, -1.00258160e+01,\n",
       "        -7.12271226e+00,  1.77461788e-01, -2.61282028e+00,\n",
       "        -9.45186584e-01, -1.62930064e+00, -2.26648087e-01,\n",
       "         3.71611081e-01,  6.80862078e-01, -5.59868918e-03,\n",
       "         4.88078261e-01, -9.35790406e-02],\n",
       "       [-1.62216281e+00, -1.27663862e+00, -4.36138613e+00,\n",
       "        -5.27554565e-01,  2.63018363e+00,  1.48052634e+01,\n",
       "         9.30524425e+00,  2.71420343e+00,  3.75801278e-01,\n",
       "         2.40045820e+00,  8.06597013e+00,  1.84488918e-01,\n",
       "        -1.36845424e+00, -1.03274065e-01],\n",
       "       [ 8.25888231e-01, -5.39602943e+00, -1.26281612e+01,\n",
       "         1.76316717e+01, -1.82135019e+00, -8.76071063e+00,\n",
       "         7.22561861e+00,  1.35495191e+01,  1.88354509e-01,\n",
       "         2.38806920e+00, -3.82063923e+00, -2.45118089e-01,\n",
       "        -3.13377737e+00,  6.79234014e-01]])"
      ]
     },
     "execution_count": 83,
     "metadata": {},
     "output_type": "execute_result"
    }
   ],
   "source": [
    "K0_spss=pca_K0.components_/np.sqrt(pca_K0.explained_variance_.reshape(pca_K0.n_components_,1))\n",
    "K0_spss  # 成分得分系数矩阵---各自因子载荷向量除以各自因子特征值的算数平方根  --代表系数"
   ]
  },
  {
   "cell_type": "code",
   "execution_count": 93,
   "id": "34addb35",
   "metadata": {},
   "outputs": [
    {
     "name": "stdout",
     "output_type": "stream",
     "text": [
      "[ -1.29090274 -10.02581597  -7.12271226  -2.61282028  -0.94518658\n",
      "  -1.62930064]\n",
      "[-1.27663862 -4.36138613 -0.52755457 14.80526345  9.30524425  2.71420343]\n",
      "[ -5.39602943 -12.62816123  17.6316717   -8.76071063   7.22561861\n",
      "  13.54951911]\n"
     ]
    }
   ],
   "source": [
    "for i in range(3):\n",
    "    print(K0_spss[i][[1,2,3,5,6,7]])\n"
   ]
  },
  {
   "cell_type": "code",
   "execution_count": 104,
   "id": "d049200e",
   "metadata": {},
   "outputs": [
    {
     "name": "stdout",
     "output_type": "stream",
     "text": [
      "因子得分： [[ 0.00075312 -0.03460555  0.02620342]\n",
      " [ 0.11174583 -0.04557964 -0.00094179]\n",
      " [-0.05267462 -0.01084866  0.01336897]\n",
      " [-0.01609777 -0.00695801  0.01394254]\n",
      " [-0.05262557  0.01281977  0.01136228]\n",
      " [ 0.05967188  0.07594923 -0.05616618]\n",
      " [-0.00789606  0.10466711  0.00171979]\n",
      " [-0.09261015 -0.00206211  0.03251467]\n",
      " [-0.07610344 -0.00408098 -0.03249501]\n",
      " [-0.08163904 -0.04635661 -0.02314202]\n",
      " [ 0.08338112 -0.06013088 -0.04751026]\n",
      " [ 0.1240947   0.01718634  0.06114359]]\n",
      "主成分得分矩阵K0\n",
      "        FAC1      FAC2      FAC3  FAC_score\n",
      "0  -0.010209 -0.737654  0.796369  -0.081373\n",
      "1  -1.514844 -0.971578 -0.028623  -1.037305\n",
      "2   0.714066 -0.231251  0.406307   0.380216\n",
      "3   0.218224 -0.148317  0.423739   0.131483\n",
      "4   0.713401  0.273267  0.345320   0.483894\n",
      "5  -0.808922  1.618939 -1.706991  -0.267673\n",
      "6   0.107040  2.231091  0.052267   0.552831\n",
      "7   1.255438 -0.043956  0.988179   0.777517\n",
      "8   1.031670 -0.086990 -0.987582   0.433681\n",
      "9   1.106712 -0.988141 -0.703328   0.307443\n",
      "10 -1.130328 -1.281754 -1.443922  -1.049511\n",
      "11 -1.682248  0.366345  1.858264  -0.631204\n"
     ]
    }
   ],
   "source": [
    "# 最后主成分得分=标准化后的因子得分系数×解释方差比例\n",
    "K0_score=pca_K0.transform(traindata_K0)    \n",
    "print('因子得分：',K0_score)\n",
    "# 因子得分归一化，使其满足正态分布\n",
    "K0_scaler2=StandardScaler().fit(K0_score)\n",
    "K0_scaler2=pd.DataFrame(K0_scaler2.transform(K0_score),columns=['FAC1','FAC2','FAC3'])\n",
    "# 正负号转换\n",
    "K0_sign=np.sign(K0_spss.sum(axis=1))\n",
    "# 取正负号\n",
    "K0_scaler2_sign=K0_scaler2*K0_sign\n",
    "# 综合得分\n",
    "K0_rate=pca_K0.explained_variance_ratio_\n",
    "K0_scaler2_sign['FAC_score']=np.sum(K0_scaler2_sign*K0_rate,axis=1)\n",
    "print('主成分得分矩阵K0')\n",
    "print(K0_scaler2_sign) # 主成分得分矩阵"
   ]
  },
  {
   "cell_type": "code",
   "execution_count": 82,
   "id": "2cd9d016",
   "metadata": {},
   "outputs": [
    {
     "name": "stdout",
     "output_type": "stream",
     "text": [
      "        SiO2      Na2O       K2O       CaO       MgO     Al2O3     Fe2O3  \\\n",
      "0   0.982232  0.000000  0.141533  0.089539  0.012326  0.055678  0.024651   \n",
      "1   0.996811  0.000000  0.059431  0.023017  0.000000  0.046491  0.000000   \n",
      "2   0.967493  0.000000  0.193938  0.092030  0.017403  0.086229  0.033865   \n",
      "3   0.977957  0.000000  0.143546  0.105693  0.023157  0.095599  0.030580   \n",
      "4   0.968346  0.000000  0.172189  0.115579  0.027833  0.117938  0.041200   \n",
      "5   0.977409  0.000000  0.106482  0.000000  0.028607  0.161095  0.034531   \n",
      "6   0.966181  0.000000  0.124064  0.087394  0.027947  0.162349  0.097571   \n",
      "7   0.959151  0.000000  0.203663  0.141410  0.000000  0.100125  0.046812   \n",
      "8   0.961509  0.052023  0.189008  0.126672  0.010158  0.142064  0.007696   \n",
      "9   0.963979  0.031058  0.214743  0.122309  0.007691  0.091399  0.006212   \n",
      "10  0.991571  0.000000  0.117551  0.000000  0.019093  0.038061  0.000000   \n",
      "11  0.992895  0.000000  0.000000  0.060988  0.015797  0.080152  0.030688   \n",
      "\n",
      "         CuO       PbO       BaO      P2O5       SrO     SnO2       SO2  \n",
      "0   0.054828  0.000000  0.000000  0.016576  0.000000  0.00000  0.005525  \n",
      "1   0.008932  0.002863  0.000000  0.007558  0.000000  0.00000  0.000000  \n",
      "2   0.079801  0.022106  0.044839  0.010975  0.001568  0.00000  0.000000  \n",
      "3   0.032361  0.000000  0.000000  0.011727  0.000000  0.00000  0.005344  \n",
      "4   0.051421  0.000000  0.000000  0.014782  0.000944  0.00000  0.007391  \n",
      "5   0.036265  0.002890  0.019938  0.060393  0.001589  0.00000  0.000000  \n",
      "6   0.035216  0.005654  0.015670  0.072694  0.001939  0.00000  0.000000  \n",
      "7   0.076882  0.000000  0.000000  0.020643  0.000000  0.00000  0.000000  \n",
      "8   0.007234  0.024934  0.000000  0.002463  0.000000  0.00000  0.000000  \n",
      "9   0.015825  0.001627  0.000000  0.000000  0.000592  0.00000  0.000000  \n",
      "10  0.000000  0.000000  0.000000  0.016971  0.000874  0.02945  0.000000  \n",
      "11  0.042471  0.012949  0.025509  0.014243  0.000000  0.00000  0.000000  \n"
     ]
    }
   ],
   "source": [
    "print(traindata_K0)"
   ]
  },
  {
   "cell_type": "code",
   "execution_count": null,
   "id": "5830199a",
   "metadata": {},
   "outputs": [],
   "source": []
  },
  {
   "cell_type": "code",
   "execution_count": null,
   "id": "e0ec3aab",
   "metadata": {},
   "outputs": [],
   "source": []
  },
  {
   "cell_type": "code",
   "execution_count": null,
   "id": "3f8939c3",
   "metadata": {},
   "outputs": [],
   "source": [
    "# PCA 高钾已风化"
   ]
  },
  {
   "cell_type": "code",
   "execution_count": 97,
   "id": "32949c44",
   "metadata": {},
   "outputs": [
    {
     "name": "stdout",
     "output_type": "stream",
     "text": [
      "[[-2.08788790e-02 -9.08272414e-17 -6.22577129e-02  3.92401033e-01\n",
      "   2.50068697e-01  8.38734224e-01  2.10399549e-02 -2.73518746e-01\n",
      "   0.00000000e+00  0.00000000e+00  2.10913050e-02  0.00000000e+00\n",
      "   0.00000000e+00  0.00000000e+00]\n",
      " [-1.94467110e-02 -4.86068669e-17 -3.48321596e-01  1.59573306e-01\n",
      "  -3.58999205e-02  1.92628533e-01 -4.63868895e-02  8.79260536e-01\n",
      "   0.00000000e+00  0.00000000e+00  1.97951663e-01  0.00000000e+00\n",
      "   0.00000000e+00  0.00000000e+00]]\n",
      "[0.54331407 0.41503859]\n"
     ]
    },
    {
     "data": {
      "text/plain": [
       "array([[-1.68662713e+00, -7.33716065e-15, -5.02927133e+00,\n",
       "         3.16987433e+01,  2.02009241e+01,  6.77542073e+01,\n",
       "         1.69963908e+00, -2.20952541e+01,  0.00000000e+00,\n",
       "         0.00000000e+00,  1.70378722e+00,  0.00000000e+00,\n",
       "         0.00000000e+00,  0.00000000e+00],\n",
       "       [-1.79737751e+00, -4.49252777e-15, -3.21938965e+01,\n",
       "         1.47486879e+01, -3.31807829e+00,  1.78038431e+01,\n",
       "        -4.28734462e+00,  8.12663442e+01,  0.00000000e+00,\n",
       "         0.00000000e+00,  1.82958376e+01,  0.00000000e+00,\n",
       "         0.00000000e+00,  0.00000000e+00]])"
      ]
     },
     "execution_count": 97,
     "metadata": {},
     "output_type": "execute_result"
    }
   ],
   "source": [
    "pca_K1=PCA(n_components=2)\n",
    "pca_K1.fit(traindata_K1)\n",
    "print(pca_K1.components_)  \n",
    "print(pca_K1.explained_variance_ratio_)\n",
    "K1_spss=pca_K1.components_/np.sqrt(pca_K1.explained_variance_.reshape(pca_K1.n_components_,1))\n",
    "K1_spss # 成分得分矩阵---各自因子载荷向量除以各自因子特征值的算数平方根  --判断主成分代表的变量"
   ]
  },
  {
   "cell_type": "code",
   "execution_count": 99,
   "id": "66dff50e",
   "metadata": {},
   "outputs": [
    {
     "name": "stdout",
     "output_type": "stream",
     "text": [
      "[ -5.02927133  31.69874335  20.20092406  67.75420731 -22.09525411]\n",
      "[-32.19389655  14.74868786  -3.31807829  17.80384314  81.26634419]\n"
     ]
    }
   ],
   "source": [
    "for i in range(2):\n",
    "    print(K1_spss[i][[2,3,4,5,7]])"
   ]
  },
  {
   "cell_type": "code",
   "execution_count": 105,
   "id": "28627671",
   "metadata": {},
   "outputs": [
    {
     "name": "stdout",
     "output_type": "stream",
     "text": [
      "因子得分： [[-0.00366608  0.01939651]\n",
      " [-0.00722919 -0.00204803]\n",
      " [-0.01177993 -0.01236196]\n",
      " [-0.00611239 -0.00248899]\n",
      " [ 0.0218105  -0.00587239]\n",
      " [ 0.00697709  0.00337487]]\n",
      "主成分得分矩阵K1\n",
      "       FAC1      FAC2  FAC_score\n",
      "0 -0.324418  1.963846   0.638811\n",
      "1 -0.639723 -0.207358  -0.433632\n",
      "2 -1.042426 -1.251616  -1.085833\n",
      "3 -0.540896 -0.252004  -0.398468\n",
      "4  1.930049 -0.594564   0.801855\n",
      "5  0.617414  0.341696   0.477267\n"
     ]
    }
   ],
   "source": [
    "# 最后主成分得分=标准化后的因子得分系数×解释方差比例\n",
    "K1_score=pca_K1.transform(traindata_K1)    \n",
    "print('因子得分：',K1_score)\n",
    "# 因子得分归一化，使其满足正态分布\n",
    "K1_scaler2=StandardScaler().fit(K1_score)\n",
    "K1_scaler2=pd.DataFrame(K1_scaler2.transform(K1_score),columns=['FAC1','FAC2'])\n",
    "# 正负号转换\n",
    "K1_sign=np.sign(K1_spss.sum(axis=1))\n",
    "# 取正负号\n",
    "K1_scaler2_sign=K1_scaler2*K1_sign\n",
    "# 综合得分\n",
    "K1_rate=pca_K1.explained_variance_ratio_\n",
    "K1_scaler2_sign['FAC_score']=np.sum(K1_scaler2_sign*K1_rate,axis=1)\n",
    "print('主成分得分矩阵K1')\n",
    "print(K1_scaler2_sign) # 主成分得分矩阵当做系数"
   ]
  },
  {
   "cell_type": "code",
   "execution_count": 81,
   "id": "826db21e",
   "metadata": {},
   "outputs": [
    {
     "name": "stdout",
     "output_type": "stream",
     "text": [
      "       FAC1      FAC2\n",
      "0 -0.324418  1.963846\n",
      "1 -0.639723 -0.207358\n",
      "2 -1.042426 -1.251616\n",
      "3 -0.540896 -0.252004\n",
      "4  1.930049 -0.594564\n",
      "5  0.617414  0.341696\n",
      "       SiO2  Na2O       K2O       CaO       MgO     Al2O3     Fe2O3       CuO  \\\n",
      "0  0.999013   0.0  0.000000  0.011540  0.000000  0.021354  0.001833  0.034943   \n",
      "1  0.999662   0.0  0.006207  0.006523  0.000000  0.013887  0.003367  0.016307   \n",
      "2  0.999823   0.0  0.009505  0.002170  0.000000  0.008369  0.002686  0.008679   \n",
      "3  0.999579   0.0  0.010707  0.007633  0.000000  0.015478  0.003074  0.017492   \n",
      "4  0.998980   0.0  0.008005  0.017957  0.006923  0.037861  0.003786  0.005950   \n",
      "5  0.999360   0.0  0.000000  0.010132  0.005820  0.027053  0.002156  0.016599   \n",
      "\n",
      "   PbO  BaO      P2O5  SrO  SnO2  SO2  \n",
      "0  0.0  0.0  0.006579  0.0   0.0  0.0  \n",
      "1  0.0  0.0  0.003682  0.0   0.0  0.0  \n",
      "2  0.0  0.0  0.000000  0.0   0.0  0.0  \n",
      "3  0.0  0.0  0.001590  0.0   0.0  0.0  \n",
      "4  0.0  0.0  0.002272  0.0   0.0  0.0  \n",
      "5  0.0  0.0  0.003880  0.0   0.0  0.0  \n"
     ]
    }
   ],
   "source": [
    "print(K1_scaler2)\n",
    "print(traindata_K1)"
   ]
  },
  {
   "cell_type": "code",
   "execution_count": null,
   "id": "db788fc2",
   "metadata": {},
   "outputs": [],
   "source": []
  },
  {
   "cell_type": "code",
   "execution_count": null,
   "id": "aff0145d",
   "metadata": {},
   "outputs": [],
   "source": []
  },
  {
   "cell_type": "code",
   "execution_count": null,
   "id": "a77ff5d7",
   "metadata": {},
   "outputs": [],
   "source": []
  },
  {
   "cell_type": "code",
   "execution_count": null,
   "id": "f49ab8f1",
   "metadata": {},
   "outputs": [],
   "source": []
  },
  {
   "cell_type": "code",
   "execution_count": 58,
   "id": "1892930f",
   "metadata": {},
   "outputs": [],
   "source": [
    "# 铅钡未风化"
   ]
  },
  {
   "cell_type": "code",
   "execution_count": 85,
   "id": "58fa5ea2",
   "metadata": {},
   "outputs": [
    {
     "name": "stdout",
     "output_type": "stream",
     "text": [
      "[[-0.55133646 -0.00350205  0.01233836  0.07465498  0.00116028  0.02964334\n",
      "   0.0199475   0.08449069  0.73262649  0.38032409  0.0009367   0.01500088\n",
      "   0.00840304 -0.01375087]\n",
      " [-0.07520855 -0.0275685   0.00534957 -0.09155801 -0.02155311  0.07501542\n",
      "  -0.01566936  0.26535167 -0.49554627  0.79917586  0.15502499  0.00285657\n",
      "  -0.0080996   0.00828296]]\n",
      "[0.65283332 0.29999426]\n"
     ]
    },
    {
     "data": {
      "text/plain": [
       "array([[-2.39543446e+00, -1.52156411e-02,  5.36074351e-02,\n",
       "         3.24359317e-01,  5.04114191e-03,  1.28793718e-01,\n",
       "         8.66674393e-02,  3.67093269e-01,  3.18309938e+00,\n",
       "         1.65242371e+00,  4.06976909e-03,  6.51755024e-02,\n",
       "         3.65093432e-02, -5.97444926e-02],\n",
       "       [-4.82035984e-01, -1.76695471e-01,  3.42871567e-02,\n",
       "        -5.86824993e-01, -1.38140873e-01,  4.80798162e-01,\n",
       "        -1.00429991e-01,  1.70072498e+00, -3.17611686e+00,\n",
       "         5.12217749e+00,  9.93605492e-01,  1.83087122e-02,\n",
       "        -5.19129963e-02,  5.30881840e-02]])"
      ]
     },
     "execution_count": 85,
     "metadata": {},
     "output_type": "execute_result"
    }
   ],
   "source": [
    "pca_Pb0=PCA(n_components=2)\n",
    "pca_Pb0.fit(traindata_Pb0)\n",
    "print(pca_Pb0.components_)\n",
    "print(pca_Pb0.explained_variance_ratio_)\n",
    "Pb0_spss=pca_Pb0.components_/np.sqrt(pca_Pb0.explained_variance_.reshape(pca_Pb0.n_components_,1))\n",
    "Pb0_spss # 成分得分矩阵---各自因子载荷向量除以各自因子特征值的算数平方根  --判断主成分代表的变量"
   ]
  },
  {
   "cell_type": "code",
   "execution_count": 106,
   "id": "034841ab",
   "metadata": {},
   "outputs": [
    {
     "name": "stdout",
     "output_type": "stream",
     "text": [
      "因子得分： [[ 0.01133101  0.40151871]\n",
      " [ 0.38586555  0.22495814]\n",
      " [ 0.36871137 -0.16096913]\n",
      " [ 0.31904372 -0.14347224]\n",
      " [-0.22747822 -0.0482867 ]\n",
      " [-0.19942357 -0.05182413]\n",
      " [-0.26280347 -0.03816752]\n",
      " [-0.15430582 -0.06110534]\n",
      " [-0.15203915  0.04208442]\n",
      " [-0.17066699  0.04593714]\n",
      " [-0.02503193 -0.03159465]\n",
      " [-0.001231   -0.0529604 ]\n",
      " [ 0.1080285  -0.1261183 ]]\n",
      "主成分得分矩阵Pb0\n",
      "        FAC1      FAC2  FAC_score\n",
      "0   0.051241  2.678546   0.837000\n",
      "1   1.744957  1.500704   1.589368\n",
      "2   1.667382 -1.073831   0.766380\n",
      "3   1.442776 -0.957109   0.654765\n",
      "4  -1.028699 -0.322122  -0.768204\n",
      "5  -0.901831 -0.345721  -0.692459\n",
      "6  -1.188447 -0.254617  -0.852241\n",
      "7  -0.697800 -0.407636  -0.577836\n",
      "8  -0.687550  0.280747  -0.364633\n",
      "9  -0.771788  0.306448  -0.411916\n",
      "10 -0.113199 -0.210769  -0.137130\n",
      "11 -0.005567 -0.353301  -0.109622\n",
      "12  0.488525 -0.841340   0.066528\n"
     ]
    }
   ],
   "source": [
    "# 最后主成分得分=标准化后的因子得分系数×解释方差比例\n",
    "Pb0_score=pca_Pb0.transform(traindata_Pb0)    \n",
    "print('因子得分：',Pb0_score)\n",
    "# 因子得分归一化，使其满足正态分布\n",
    "Pb0_scaler2=StandardScaler().fit(Pb0_score)\n",
    "Pb0_scaler2=pd.DataFrame(Pb0_scaler2.transform(Pb0_score),columns=['FAC1','FAC2'])\n",
    "# 正负号转换\n",
    "Pb0_sign=np.sign(Pb0_spss.sum(axis=1))\n",
    "# 取正负号\n",
    "Pb0_scaler2_sign=Pb0_scaler2*Pb0_sign\n",
    "# 综合得分\n",
    "Pb0_rate=pca_Pb0.explained_variance_ratio_\n",
    "Pb0_scaler2_sign['FAC_score']=np.sum(Pb0_scaler2_sign*Pb0_rate,axis=1)\n",
    "print('主成分得分矩阵Pb0')\n",
    "print(Pb0_scaler2_sign) # 主成分得分矩阵当做系数"
   ]
  },
  {
   "cell_type": "code",
   "execution_count": 101,
   "id": "74eaf4d6",
   "metadata": {},
   "outputs": [
    {
     "name": "stdout",
     "output_type": "stream",
     "text": [
      "[-2.39543446  0.36709327  3.18309938  1.65242371]\n",
      "[-0.48203598  1.70072498 -3.17611686  5.12217749]\n"
     ]
    }
   ],
   "source": [
    "for i in range(2):\n",
    "    print(Pb0_spss[i][[0,7,8,9]])"
   ]
  },
  {
   "cell_type": "code",
   "execution_count": null,
   "id": "13c6a209",
   "metadata": {},
   "outputs": [],
   "source": []
  },
  {
   "cell_type": "code",
   "execution_count": null,
   "id": "32f77a80",
   "metadata": {},
   "outputs": [],
   "source": []
  },
  {
   "cell_type": "code",
   "execution_count": null,
   "id": "d5e7f4c1",
   "metadata": {},
   "outputs": [],
   "source": []
  },
  {
   "cell_type": "code",
   "execution_count": 61,
   "id": "49c60274",
   "metadata": {},
   "outputs": [],
   "source": [
    "# 铅钡已风化"
   ]
  },
  {
   "cell_type": "code",
   "execution_count": 86,
   "id": "16096337",
   "metadata": {},
   "outputs": [
    {
     "name": "stdout",
     "output_type": "stream",
     "text": [
      "[[ 7.29448527e-01  5.22165954e-02  1.88135331e-03 -3.36036443e-02\n",
      "   4.86015021e-03  9.59675332e-02  8.67843905e-04 -2.97006508e-02\n",
      "  -6.40132113e-01 -1.69373180e-01 -1.02358564e-01 -6.75838997e-03\n",
      "   2.77984600e-03 -7.03006645e-02]\n",
      " [-1.75636712e-01  1.56890781e-02 -3.84895932e-04 -1.33028992e-02\n",
      "  -2.08501695e-02 -3.65236922e-02 -2.38826595e-02  1.59646474e-01\n",
      "  -4.51486608e-01  8.17347099e-01 -2.94366686e-02  2.40373107e-03\n",
      "   3.33783851e-05  2.61024254e-01]]\n",
      "[0.67621936 0.23546893]\n"
     ]
    },
    {
     "data": {
      "text/plain": [
       "array([[ 2.05311310e+00,  1.46969350e-01,  5.29527577e-03,\n",
       "        -9.45811523e-02,  1.36794272e-02,  2.70111176e-01,\n",
       "         2.44264211e-03, -8.35957480e-02, -1.80172223e+00,\n",
       "        -4.76719441e-01, -2.88099435e-01, -1.90222318e-02,\n",
       "         7.82418226e-03, -1.97868951e-01],\n",
       "       [-8.37742426e-01,  7.48329108e-02, -1.83585566e-03,\n",
       "        -6.34514443e-02, -9.94500035e-02, -1.74208719e-01,\n",
       "        -1.13914209e-01,  7.61473063e-01, -2.15347624e+00,\n",
       "         3.89853770e+00, -1.40405420e-01,  1.14651856e-02,\n",
       "         1.59206404e-04,  1.24501928e+00]])"
      ]
     },
     "execution_count": 86,
     "metadata": {},
     "output_type": "execute_result"
    }
   ],
   "source": [
    "pca_Pb1=PCA(n_components=2)\n",
    "pca_Pb1.fit(traindata_Pb1)\n",
    "print(pca_Pb1.components_)\n",
    "print(pca_Pb1.explained_variance_ratio_)\n",
    "Pb1_spss=pca_Pb1.components_/np.sqrt(pca_Pb1.explained_variance_.reshape(pca_Pb1.n_components_,1))\n",
    "Pb1_spss # 成分得分矩阵---各自因子载荷向量除以各自因子特征值的算数平方根  --判断主成分代表的变量"
   ]
  },
  {
   "cell_type": "code",
   "execution_count": 103,
   "id": "357c1629",
   "metadata": {},
   "outputs": [
    {
     "name": "stdout",
     "output_type": "stream",
     "text": [
      "[ 2.0531131  -1.80172223 -0.47671944 -0.19786895]\n",
      "[-0.83774243 -2.15347624  3.8985377   1.24501928]\n"
     ]
    }
   ],
   "source": [
    "for i in range(2):\n",
    "    print(Pb1_spss[i][[0,8,9,13]])"
   ]
  },
  {
   "cell_type": "code",
   "execution_count": 107,
   "id": "4efb8085",
   "metadata": {},
   "outputs": [
    {
     "name": "stdout",
     "output_type": "stream",
     "text": [
      "因子得分： [[-3.02274577e-02 -2.37224273e-01]\n",
      " [-1.68701390e-01  4.62166022e-01]\n",
      " [-4.76580035e-01  5.14731324e-01]\n",
      " [ 1.37173453e-01  1.20398198e-01]\n",
      " [-1.06786291e-01 -1.45198374e-01]\n",
      " [ 4.92501082e-01  1.12277607e-01]\n",
      " [ 2.91363715e-01 -6.39782130e-02]\n",
      " [-1.83867201e-01  4.65900328e-01]\n",
      " [-4.54589216e-01  6.17657431e-01]\n",
      " [ 5.75829051e-01 -4.79285340e-03]\n",
      " [ 6.25059196e-01 -3.77020680e-03]\n",
      " [-5.68779628e-02 -8.77967719e-02]\n",
      " [ 4.33788473e-02 -5.68331042e-02]\n",
      " [-1.16437111e-01 -1.02256245e-01]\n",
      " [-2.85491015e-01 -1.61150078e-01]\n",
      " [-4.37220368e-01 -1.72889314e-01]\n",
      " [-3.08828158e-01 -8.35411114e-02]\n",
      " [ 4.19759793e-01  5.61651428e-02]\n",
      " [ 4.45775703e-01  7.37006127e-02]\n",
      " [-4.60367476e-01 -1.33170120e-01]\n",
      " [-2.48030019e-01 -1.87417500e-01]\n",
      " [ 5.96400256e-01  2.78921142e-02]\n",
      " [ 5.29837423e-01  3.86874059e-02]\n",
      " [-2.45744750e-02 -1.10602631e-01]\n",
      " [ 4.40938409e-01 -5.17622256e-02]\n",
      " [-3.27261488e-01  3.38742616e-04]\n",
      " [ 2.45932450e-01 -7.48136351e-02]\n",
      " [-1.66607043e-01 -8.46322407e-02]\n",
      " [-2.87524636e-01 -2.51120751e-01]\n",
      " [-2.13427534e-01 -1.14617398e-01]\n",
      " [ 5.90487942e-01  7.73718788e-02]\n",
      " [-3.07341471e-01 -1.55820766e-01]\n",
      " [-3.83291070e-01 -2.44186218e-01]\n",
      " [-1.16556461e-01  1.99476640e-02]\n",
      " [-2.07353767e-01  3.66280862e-02]\n",
      " [-6.64956751e-02 -9.62885278e-02]]\n",
      "主成分得分矩阵Pb1\n",
      "        FAC1      FAC2  FAC_score\n",
      "0   0.086285 -1.147550  -0.211865\n",
      "1   0.481564  2.235684   0.852077\n",
      "2   1.360415  2.489964   1.506248\n",
      "3  -0.391566  0.582415  -0.127644\n",
      "4   0.304825 -0.702383   0.040739\n",
      "5  -1.405862  0.543132  -0.822780\n",
      "6  -0.831708 -0.309489  -0.635292\n",
      "7   0.524855  2.253749   0.885605\n",
      "8   1.297641  2.987859   1.581038\n",
      "9  -1.643724 -0.023185  -1.116978\n",
      "10 -1.784254 -0.018238  -1.210841\n",
      "11  0.162360 -0.424709   0.009785\n",
      "12 -0.123826 -0.274925  -0.148470\n",
      "13  0.332374 -0.494655   0.108282\n",
      "14  0.814944 -0.779548   0.367522\n",
      "15  1.248061 -0.836336   0.647032\n",
      "16  0.881561 -0.404122   0.500970\n",
      "17 -1.198219  0.271694  -0.746284\n",
      "18 -1.272483  0.356520  -0.776528\n",
      "19  1.314135 -0.644198   0.736955\n",
      "20  0.708010 -0.906614   0.265291\n",
      "21 -1.702446  0.134925  -1.119456\n",
      "22 -1.512440  0.187147  -0.978674\n",
      "23  0.070149 -0.535030  -0.078547\n",
      "24 -1.258674 -0.250395  -0.910100\n",
      "25  0.934180  0.001639   0.632096\n",
      "26 -0.702023 -0.361904  -0.559939\n",
      "27  0.475586 -0.409400   0.225199\n",
      "28  0.820749 -1.214773   0.268965\n",
      "29  0.609236 -0.554451   0.281422\n",
      "30 -1.685569  0.374279  -1.051683\n",
      "31  0.877317 -0.753768   0.415770\n",
      "32  1.094118 -1.181228   0.461721\n",
      "33  0.332715  0.096495   0.247710\n",
      "34  0.591899  0.177185   0.441975\n",
      "35  0.189814 -0.465787   0.018678\n"
     ]
    }
   ],
   "source": [
    "# 最后主成分得分=标准化后的因子得分系数×解释方差比例\n",
    "Pb1_score=pca_Pb1.transform(traindata_Pb1)    \n",
    "print('因子得分：',Pb1_score)\n",
    "# 因子得分归一化，使其满足正态分布\n",
    "Pb1_scaler2=StandardScaler().fit(Pb1_score)\n",
    "Pb1_scaler2=pd.DataFrame(Pb1_scaler2.transform(Pb1_score),columns=['FAC1','FAC2'])\n",
    "# 正负号转换\n",
    "Pb1_sign=np.sign(Pb1_spss.sum(axis=1))\n",
    "# 取正负号\n",
    "Pb1_scaler2_sign=Pb1_scaler2*Pb1_sign\n",
    "# 综合得分\n",
    "Pb1_rate=pca_Pb1.explained_variance_ratio_\n",
    "Pb1_scaler2_sign['FAC_score']=np.sum(Pb1_scaler2_sign*Pb1_rate,axis=1)\n",
    "print('主成分得分矩阵Pb1')\n",
    "print(Pb1_scaler2_sign) # 主成分得分矩阵当做系数"
   ]
  },
  {
   "cell_type": "code",
   "execution_count": null,
   "id": "07924c91",
   "metadata": {},
   "outputs": [],
   "source": []
  },
  {
   "cell_type": "code",
   "execution_count": null,
   "id": "aab5c003",
   "metadata": {},
   "outputs": [],
   "source": []
  },
  {
   "cell_type": "code",
   "execution_count": null,
   "id": "4a51d036",
   "metadata": {},
   "outputs": [],
   "source": []
  },
  {
   "cell_type": "code",
   "execution_count": null,
   "id": "80c367b9",
   "metadata": {},
   "outputs": [],
   "source": []
  },
  {
   "cell_type": "code",
   "execution_count": 64,
   "id": "842fd22b",
   "metadata": {},
   "outputs": [],
   "source": [
    "# 因子得分公式"
   ]
  },
  {
   "cell_type": "code",
   "execution_count": 66,
   "id": "c57bdcf7",
   "metadata": {},
   "outputs": [
    {
     "data": {
      "text/html": [
       "<div>\n",
       "<style scoped>\n",
       "    .dataframe tbody tr th:only-of-type {\n",
       "        vertical-align: middle;\n",
       "    }\n",
       "\n",
       "    .dataframe tbody tr th {\n",
       "        vertical-align: top;\n",
       "    }\n",
       "\n",
       "    .dataframe thead th {\n",
       "        text-align: right;\n",
       "    }\n",
       "</style>\n",
       "<table border=\"1\" class=\"dataframe\">\n",
       "  <thead>\n",
       "    <tr style=\"text-align: right;\">\n",
       "      <th></th>\n",
       "      <th>FAC1</th>\n",
       "      <th>FAC2</th>\n",
       "      <th>FAC_score</th>\n",
       "    </tr>\n",
       "  </thead>\n",
       "  <tbody>\n",
       "    <tr>\n",
       "      <th>0</th>\n",
       "      <td>0.051241</td>\n",
       "      <td>2.678546</td>\n",
       "      <td>0.837000</td>\n",
       "    </tr>\n",
       "    <tr>\n",
       "      <th>1</th>\n",
       "      <td>1.744957</td>\n",
       "      <td>1.500704</td>\n",
       "      <td>1.589368</td>\n",
       "    </tr>\n",
       "    <tr>\n",
       "      <th>2</th>\n",
       "      <td>1.667382</td>\n",
       "      <td>-1.073831</td>\n",
       "      <td>0.766380</td>\n",
       "    </tr>\n",
       "    <tr>\n",
       "      <th>3</th>\n",
       "      <td>1.442776</td>\n",
       "      <td>-0.957109</td>\n",
       "      <td>0.654765</td>\n",
       "    </tr>\n",
       "    <tr>\n",
       "      <th>4</th>\n",
       "      <td>-1.028699</td>\n",
       "      <td>-0.322122</td>\n",
       "      <td>-0.768204</td>\n",
       "    </tr>\n",
       "    <tr>\n",
       "      <th>5</th>\n",
       "      <td>-0.901831</td>\n",
       "      <td>-0.345721</td>\n",
       "      <td>-0.692459</td>\n",
       "    </tr>\n",
       "    <tr>\n",
       "      <th>6</th>\n",
       "      <td>-1.188447</td>\n",
       "      <td>-0.254617</td>\n",
       "      <td>-0.852241</td>\n",
       "    </tr>\n",
       "    <tr>\n",
       "      <th>7</th>\n",
       "      <td>-0.697800</td>\n",
       "      <td>-0.407636</td>\n",
       "      <td>-0.577836</td>\n",
       "    </tr>\n",
       "    <tr>\n",
       "      <th>8</th>\n",
       "      <td>-0.687550</td>\n",
       "      <td>0.280747</td>\n",
       "      <td>-0.364633</td>\n",
       "    </tr>\n",
       "    <tr>\n",
       "      <th>9</th>\n",
       "      <td>-0.771788</td>\n",
       "      <td>0.306448</td>\n",
       "      <td>-0.411916</td>\n",
       "    </tr>\n",
       "    <tr>\n",
       "      <th>10</th>\n",
       "      <td>-0.113199</td>\n",
       "      <td>-0.210769</td>\n",
       "      <td>-0.137130</td>\n",
       "    </tr>\n",
       "    <tr>\n",
       "      <th>11</th>\n",
       "      <td>-0.005567</td>\n",
       "      <td>-0.353301</td>\n",
       "      <td>-0.109622</td>\n",
       "    </tr>\n",
       "    <tr>\n",
       "      <th>12</th>\n",
       "      <td>0.488525</td>\n",
       "      <td>-0.841340</td>\n",
       "      <td>0.066528</td>\n",
       "    </tr>\n",
       "  </tbody>\n",
       "</table>\n",
       "</div>"
      ],
      "text/plain": [
       "        FAC1      FAC2  FAC_score\n",
       "0   0.051241  2.678546   0.837000\n",
       "1   1.744957  1.500704   1.589368\n",
       "2   1.667382 -1.073831   0.766380\n",
       "3   1.442776 -0.957109   0.654765\n",
       "4  -1.028699 -0.322122  -0.768204\n",
       "5  -0.901831 -0.345721  -0.692459\n",
       "6  -1.188447 -0.254617  -0.852241\n",
       "7  -0.697800 -0.407636  -0.577836\n",
       "8  -0.687550  0.280747  -0.364633\n",
       "9  -0.771788  0.306448  -0.411916\n",
       "10 -0.113199 -0.210769  -0.137130\n",
       "11 -0.005567 -0.353301  -0.109622\n",
       "12  0.488525 -0.841340   0.066528"
      ]
     },
     "execution_count": 66,
     "metadata": {},
     "output_type": "execute_result"
    }
   ],
   "source": [
    "Pb0_scaler2_sign"
   ]
  },
  {
   "cell_type": "code",
   "execution_count": 69,
   "id": "2f3d7408",
   "metadata": {},
   "outputs": [
    {
     "data": {
      "text/plain": [
       "[0.05124094661896188,\n",
       " 1.7449566584380054,\n",
       " 1.667382230079898,\n",
       " 1.4427757309885698,\n",
       " -1.02869932508745,\n",
       " -0.9018309156872227,\n",
       " -1.1884467514299712,\n",
       " -0.6977999657890344,\n",
       " -0.6875496575517943,\n",
       " -0.7717882550881139,\n",
       " -0.11319907938039979,\n",
       " -0.005566821112149563,\n",
       " 0.48852520500070123]"
      ]
     },
     "execution_count": 69,
     "metadata": {},
     "output_type": "execute_result"
    }
   ],
   "source": [
    "# 高钾未风化\n",
    "Pb0_w=Pb0_scaler2_sign.loc[:,'FAC1'].tolist()"
   ]
  },
  {
   "cell_type": "code",
   "execution_count": 72,
   "id": "d1eea93f",
   "metadata": {},
   "outputs": [],
   "source": [
    "def yinzi_Pb0(x1,x2,x3,x4,x5,x6,x7,x8,x9,x10,x11,x12):\n",
    "    Pb0_x=[0,x2,x3,x4,0,x6,x7,x8,0,0,0,0]\n",
    "    return mul(Pb0_w,Pb0_x)"
   ]
  },
  {
   "cell_type": "code",
   "execution_count": null,
   "id": "55ccc93f",
   "metadata": {},
   "outputs": [],
   "source": []
  }
 ],
 "metadata": {
  "kernelspec": {
   "display_name": "Python 3 (ipykernel)",
   "language": "python",
   "name": "python3"
  },
  "language_info": {
   "codemirror_mode": {
    "name": "ipython",
    "version": 3
   },
   "file_extension": ".py",
   "mimetype": "text/x-python",
   "name": "python",
   "nbconvert_exporter": "python",
   "pygments_lexer": "ipython3",
   "version": "3.9.12"
  }
 },
 "nbformat": 4,
 "nbformat_minor": 5
}
